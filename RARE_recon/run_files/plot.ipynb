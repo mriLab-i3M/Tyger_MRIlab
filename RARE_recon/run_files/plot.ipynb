{
 "cells": [
  {
   "cell_type": "code",
   "execution_count": 1,
   "metadata": {},
   "outputs": [],
   "source": [
    "import scipy.io as sio\n",
    "import numpy as np \n",
    "import ipywidgets as widgets\n",
    "import matplotlib.pyplot as plt"
   ]
  },
  {
   "cell_type": "code",
   "execution_count": 2,
   "metadata": {},
   "outputs": [
    {
     "name": "stdout",
     "output_type": "stream",
     "text": [
      "AxesOrientation:  [[2 1 0]]\n",
      "dFov:  [[-20.   0.   0.]]\n",
      "BW:  [[0.06807756]]\n",
      "[[1.]]\n",
      "(38, 128, 136)\n",
      "(38, 128, 136)\n"
     ]
    }
   ],
   "source": [
    "rawData_path = '/home/tyger/Tyger_MRIlab/toTest/Brain_02.10/'\n",
    "rawData = \"BW_sweep/RarePyPulseq.2025.10.02.13.41.47.834.mat\"\n",
    "rawData = rawData_path + rawData\n",
    "out_field = \"SPDS_polFit\"\n",
    "\n",
    "\n",
    "rawData_pos = sio.loadmat(rawData)\n",
    "print('AxesOrientation: ', rawData_pos['axesOrientation'])\n",
    "print('dFov: ', rawData_pos['dfov'])\n",
    "print('BW: ', rawData_pos['bw_MHz'])\n",
    "print(rawData_pos['phGradTime'])\n",
    "\n",
    "img3D_tyger = rawData_pos[out_field][0]\n",
    "# img3D_tyger = bm4d.bm4d(img3D_tyger, sigma_psd=1.4)\n",
    "# print('Tyger img shape: ',img3D_tyger.shape)\n",
    "img3D_or = np.abs(rawData_pos['image3D'])\n",
    "print(img3D_or.shape)\n",
    "\n",
    "dBo_polFit = np.load(\"/home/tyger/Tyger_MRIlab/toTest/dBo_polFit.npy\")\n",
    "nPoints_sig = np.load(\"/home/tyger/Tyger_MRIlab/toTest/nPoints_sig.npy\")\n",
    "dBo_polFit = np.reshape(dBo_polFit, (1,nPoints_sig[0],nPoints_sig[1],nPoints_sig[2]))[0]\n",
    "print(dBo_polFit.shape)\n"
   ]
  },
  {
   "cell_type": "code",
   "execution_count": 4,
   "metadata": {},
   "outputs": [
    {
     "data": {
      "application/vnd.jupyter.widget-view+json": {
       "model_id": "e62fb40d453d4f7eac8cd573a3dbeb2b",
       "version_major": 2,
       "version_minor": 0
      },
      "text/plain": [
       "interactive(children=(IntSlider(value=18, description='i', max=37), Output()), _dom_classes=('widget-interact'…"
      ]
     },
     "metadata": {},
     "output_type": "display_data"
    },
    {
     "data": {
      "text/plain": [
       "<function __main__.show_slices(i)>"
      ]
     },
     "execution_count": 4,
     "metadata": {},
     "output_type": "execute_result"
    }
   ],
   "source": [
    "from mpl_toolkits.axes_grid1 import make_axes_locatable\n",
    "\n",
    "img1 = img3D_or\n",
    "img2 = img3D_tyger\n",
    "img3 = dBo_polFit\n",
    "\n",
    "def show_slices(i):\n",
    "    fig, axes = plt.subplots(1, 3, figsize=(15, 5))\n",
    "    axes[0].imshow(img1[i,:,:], cmap=\"gray\")\n",
    "    axes[0].set_title(\"Original\")\n",
    "    axes[0].axis(\"off\")\n",
    "    \n",
    "    axes[1].imshow(img2[i,:,:], cmap=\"gray\")\n",
    "    axes[1].set_title(\"Tyger\")\n",
    "    axes[1].axis(\"off\")\n",
    "    \n",
    "    # vmin, vmax = img3.min(), img3.max()\n",
    "    # im = axes[2].imshow(img3[i,:,:], cmap=\"bwr\", vmin=vmin, vmax=vmax)\n",
    "    im = axes[2].imshow(img3[i,:,:], cmap=\"bwr\")  # bwr para positivo/negativo\n",
    "    axes[2].set_title(\"Bo pol Fit\")\n",
    "    axes[2].axis(\"off\")\n",
    "    \n",
    "    # fig.colorbar(im, ax=axes[2], fraction=0.046, pad=0.04)\n",
    "    fig.colorbar(im, ax=axes.ravel().tolist(), fraction=0.046, pad=0.04)\n",
    "    \n",
    "    plt.show()\n",
    "\n",
    "widgets.interact(show_slices, i=(0, img1.shape[0]-1))"
   ]
  },
  {
   "cell_type": "code",
   "execution_count": 60,
   "metadata": {},
   "outputs": [
    {
     "name": "stdout",
     "output_type": "stream",
     "text": [
      "AxesOrientation:  [[2 1 0]]\n",
      "dFov:  [[-20.   0.   0.]]\n",
      "BW:  [[0.06807756]]\n",
      "[[1.]]\n",
      "(38, 128, 136)\n",
      "(38, 128, 136)\n"
     ]
    }
   ],
   "source": [
    "rawData_path = '/home/tyger/Tyger_MRIlab/toTest/Brain_02.10/'\n",
    "rawData = \"BW_sweep/RarePyPulseq.2025.10.02.13.41.47.834.mat\"\n",
    "rawData = rawData_path + rawData\n",
    "out_field = \"SPDS_SHFit\"\n",
    "\n",
    "\n",
    "rawData_pos = sio.loadmat(rawData)\n",
    "print('AxesOrientation: ', rawData_pos['axesOrientation'])\n",
    "print('dFov: ', rawData_pos['dfov'])\n",
    "print('BW: ', rawData_pos['bw_MHz'])\n",
    "print(rawData_pos['phGradTime'])\n",
    "\n",
    "img3D_tyger = rawData_pos[out_field][0]\n",
    "# img3D_tyger = bm4d.bm4d(img3D_tyger, sigma_psd=1.4)\n",
    "# print('Tyger img shape: ',img3D_tyger.shape)\n",
    "img3D_or = np.abs(rawData_pos['image3D'])\n",
    "print(img3D_or.shape)\n",
    "\n",
    "dBo_SHFit = np.load(\"/home/tyger/Tyger_MRIlab/toTest/dBo_SH.npy\")\n",
    "nPoints_sig = np.load(\"/home/tyger/Tyger_MRIlab/toTest/nPoints_sig.npy\")\n",
    "dBo_SHFit = np.reshape(dBo_SHFit, (1,nPoints_sig[0],nPoints_sig[1],nPoints_sig[2]))[0]\n",
    "print(dBo_SHFit.shape)\n"
   ]
  },
  {
   "cell_type": "code",
   "execution_count": 61,
   "metadata": {},
   "outputs": [
    {
     "data": {
      "application/vnd.jupyter.widget-view+json": {
       "model_id": "cfec84d11def4acfa12a952130f505f8",
       "version_major": 2,
       "version_minor": 0
      },
      "text/plain": [
       "interactive(children=(IntSlider(value=18, description='i', max=37), Output()), _dom_classes=('widget-interact'…"
      ]
     },
     "metadata": {},
     "output_type": "display_data"
    },
    {
     "data": {
      "text/plain": [
       "<function __main__.show_slices(i)>"
      ]
     },
     "execution_count": 61,
     "metadata": {},
     "output_type": "execute_result"
    }
   ],
   "source": [
    "from mpl_toolkits.axes_grid1 import make_axes_locatable\n",
    "\n",
    "img1 = img3D_or\n",
    "img2 = img3D_tyger\n",
    "img3 = dBo_SHFit\n",
    "\n",
    "def show_slices(i):\n",
    "    fig, axes = plt.subplots(1, 3, figsize=(15, 5))\n",
    "    axes[0].imshow(img1[i,:,:], cmap=\"gray\")\n",
    "    axes[0].set_title(\"Original\")\n",
    "    axes[0].axis(\"off\")\n",
    "    \n",
    "    axes[1].imshow(img2[i,:,:], cmap=\"gray\")\n",
    "    axes[1].set_title(\"Tyger\")\n",
    "    axes[1].axis(\"off\")\n",
    "    \n",
    "    # vmin, vmax = img3.min(), img3.max()\n",
    "    # im = axes[2].imshow(img3[i,:,:], cmap=\"bwr\", vmin=vmin, vmax=vmax)\n",
    "    im = axes[2].imshow(img3[i,:,:], cmap=\"bwr\")  # bwr para positivo/negativo\n",
    "    axes[2].set_title(\"Bo pol Fit\")\n",
    "    axes[2].axis(\"off\")\n",
    "    \n",
    "    # fig.colorbar(im, ax=axes[2], fraction=0.046, pad=0.04)\n",
    "    fig.colorbar(im, ax=axes.ravel().tolist(), fraction=0.046, pad=0.04)\n",
    "    \n",
    "    plt.show()\n",
    "\n",
    "widgets.interact(show_slices, i=(0, img1.shape[0]-1))"
   ]
  }
 ],
 "metadata": {
  "kernelspec": {
   "display_name": "Python 3",
   "language": "python",
   "name": "python3"
  },
  "language_info": {
   "codemirror_mode": {
    "name": "ipython",
    "version": 3
   },
   "file_extension": ".py",
   "mimetype": "text/x-python",
   "name": "python",
   "nbconvert_exporter": "python",
   "pygments_lexer": "ipython3",
   "version": "3.10.12"
  }
 },
 "nbformat": 4,
 "nbformat_minor": 2
}
